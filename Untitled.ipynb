{
 "cells": [
  {
   "cell_type": "code",
   "execution_count": null,
   "id": "f18df374",
   "metadata": {},
   "outputs": [],
   "source": [
    "import pandas as pd\n",
    "import numpy as np\n",
    "import matplotlib.pyplot as plt\n",
    "import seaborn as sns"
   ]
  },
  {
   "cell_type": "code",
   "execution_count": null,
   "id": "966f376e",
   "metadata": {},
   "outputs": [],
   "source": [
    "visa_df."
   ]
  },
  {
   "cell_type": "code",
   "execution_count": null,
   "id": "340946f6",
   "metadata": {},
   "outputs": [],
   "source": []
  },
  {
   "cell_type": "code",
   "execution_count": null,
   "id": "e7a4e996",
   "metadata": {},
   "outputs": [],
   "source": []
  },
  {
   "cell_type": "markdown",
   "id": "f082e3eb",
   "metadata": {},
   "source": [
    "**What happen if correlation is high**\n",
    "\n",
    "- for that we will read wine quality dataset\n",
    "\n",
    "- will perform the corr"
   ]
  },
  {
   "cell_type": "code",
   "execution_count": 2,
   "id": "9b71075b",
   "metadata": {},
   "outputs": [
    {
     "ename": "NameError",
     "evalue": "name 'wine' is not defined",
     "output_type": "error",
     "traceback": [
      "\u001b[1;31m---------------------------------------------------------------------------\u001b[0m",
      "\u001b[1;31mNameError\u001b[0m                                 Traceback (most recent call last)",
      "Cell \u001b[1;32mIn[2], line 1\u001b[0m\n\u001b[1;32m----> 1\u001b[0m \u001b[38;5;28mlen\u001b[39m(wine\u001b[38;5;241m.\u001b[39mdata\u001b[38;5;241m.\u001b[39mcolumns)\n",
      "\u001b[1;31mNameError\u001b[0m: name 'wine' is not defined"
     ]
    }
   ],
   "source": [
    "len(wine.data.columns)"
   ]
  },
  {
   "cell_type": "markdown",
   "id": "d16d2143",
   "metadata": {},
   "source": [
    "**heat map**"
   ]
  },
  {
   "cell_type": "markdown",
   "id": "ffee2bae",
   "metadata": {},
   "source": [
    "- heat map will provide the matrix representation of correlation value\n",
    "\n",
    "- heat map represents value in color format\n",
    "\n",
    "- different different value in different color\n",
    "\n",
    "- beside matri it will display color bar\n",
    "\n",
    "- color bar means like as scale of values with color\n",
    "\n",
    "- it is unders seaborn package"
   ]
  },
  {
   "cell_type": "code",
   "execution_count": null,
   "id": "9bb44336",
   "metadata": {},
   "outputs": [],
   "source": [
    "wine_corr=wine_data.corr()\n"
   ]
  },
  {
   "cell_type": "code",
   "execution_count": null,
   "id": "88d57ad7",
   "metadata": {},
   "outputs": [],
   "source": [
    "import seaborn as sns\n",
    "sns._version_"
   ]
  },
  {
   "cell_type": "code",
   "execution_count": null,
   "id": "47815d7a",
   "metadata": {},
   "outputs": [],
   "source": [
    "pip install seaborn --upgrade"
   ]
  },
  {
   "cell_type": "code",
   "execution_count": null,
   "id": "c1836b1a",
   "metadata": {},
   "outputs": [],
   "source": [
    "# Draw  the scatte pot"
   ]
  },
  {
   "cell_type": "code",
   "execution_count": null,
   "id": "35485cd4",
   "metadata": {},
   "outputs": [],
   "source": []
  }
 ],
 "metadata": {
  "kernelspec": {
   "display_name": "Python 3 (ipykernel)",
   "language": "python",
   "name": "python3"
  },
  "language_info": {
   "codemirror_mode": {
    "name": "ipython",
    "version": 3
   },
   "file_extension": ".py",
   "mimetype": "text/x-python",
   "name": "python",
   "nbconvert_exporter": "python",
   "pygments_lexer": "ipython3",
   "version": "3.11.5"
  }
 },
 "nbformat": 4,
 "nbformat_minor": 5
}
