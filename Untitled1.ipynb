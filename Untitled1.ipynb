{
 "cells": [
  {
   "cell_type": "code",
   "execution_count": null,
   "id": "ea3fc0b9",
   "metadata": {},
   "outputs": [],
   "source": [
    "**EDA bank set**\n",
    "\n",
    "step-1: Read the data\n",
    "    \n",
    "step-2: Data quick checks\n",
    "        a) dtypes columns shape size info\n",
    "        \n",
    "step-3: Convert categorical columns Numerical columns names seperately\n",
    "    \n",
    "step-4: You need fill the missing values\n",
    "    \n",
    "step-5: Categorical data analysis\n",
    "        unique\n",
    "        nunique\n",
    "        value counts\n",
    "        bar chart\n",
    "        count plot\n",
    "        pie chart\n",
    "        \n",
    "step-6: Numerical data analysis\n",
    "        Describe function\n",
    "        Histogram\n",
    "        Data skew ness\n",
    "        \n",
    "step-7: Box plot creation\n",
    "        Outlier analysis\n",
    "        \n",
    "step-8: Transformation methods\n",
    "    \n",
    "step-9: Encoding methods\n",
    "        Map\n",
    "        np.where\n",
    "        LabelEncoder\n",
    "        onehot encoder\n",
    "        \n",
    "step-10: Scaling methods\n",
    "         Z\n",
    "         minmax scalar\n",
    "            "
   ]
  },
  {
   "cell_type": "code",
   "execution_count": null,
   "id": "e702f30e",
   "metadata": {},
   "outputs": [],
   "source": [
    "==============================================\n",
    "columns ===== features == variables\n",
    "columns are two types\n",
    "Input columns      output coluns\n",
    "Independent        Dependent\n",
    "                   Target column\n",
    "===============================================\n",
    "Rows === Fields === instances === tuples\n",
    "values\n",
    "    "
   ]
  }
 ],
 "metadata": {
  "kernelspec": {
   "display_name": "Python 3 (ipykernel)",
   "language": "python",
   "name": "python3"
  },
  "language_info": {
   "codemirror_mode": {
    "name": "ipython",
    "version": 3
   },
   "file_extension": ".py",
   "mimetype": "text/x-python",
   "name": "python",
   "nbconvert_exporter": "python",
   "pygments_lexer": "ipython3",
   "version": "3.11.5"
  }
 },
 "nbformat": 4,
 "nbformat_minor": 5
}
