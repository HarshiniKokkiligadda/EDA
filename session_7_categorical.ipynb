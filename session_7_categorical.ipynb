{
 "cells": [
  {
   "cell_type": "code",
   "execution_count": null,
   "id": "8fff4b64",
   "metadata": {},
   "outputs": [],
   "source": [
    "import pandas as pd\n",
    "import numpy as np\n",
    "import matplotlib.pyplot as plt\n",
    "import seaborn as sns"
   ]
  },
  {
   "cell_type": "markdown",
   "id": "390f3693",
   "metadata": {},
   "source": [
    "**Read the data**"
   ]
  },
  {
   "cell_type": "code",
   "execution_count": null,
   "id": "66b0482a",
   "metadata": {},
   "outputs": [],
   "source": [
    "visadf=pd.read"
   ]
  },
  {
   "cell_type": "markdown",
   "id": "98ae3830",
   "metadata": {},
   "source": [
    "**map**\n",
    "\n",
    "- first get the unique labels for each column\n",
    "\n",
    "- create a dictionary by providing a values to each label\n",
    "\n",
    "- For example case status has two labels, we are providing two values\n",
    "\n",
    "    - Assign 0 for certified\n",
    "    \n",
    "    - Assign 1 for Denied"
   ]
  },
  {
   "cell_type": "code",
   "execution_count": null,
   "id": "cbda21de",
   "metadata": {},
   "outputs": [],
   "source": [
    "visa_df['case_status'].unique()"
   ]
  },
  {
   "cell_type": "code",
   "execution_count": null,
   "id": "19e1a361",
   "metadata": {},
   "outputs": [],
   "source": [
    "d=['Denied':1,'Certified':0]\n",
    "d"
   ]
  },
  {
   "cell_type": "code",
   "execution_count": null,
   "id": "0a3782bf",
   "metadata": {},
   "outputs": [],
   "source": [
    "visa_df['case_status'].map(d)"
   ]
  },
  {
   "cell_type": "code",
   "execution_count": null,
   "id": "876e2d56",
   "metadata": {},
   "outputs": [],
   "source": [
    "visa_df"
   ]
  },
  {
   "cell_type": "code",
   "execution_count": null,
   "id": "2eae3c03",
   "metadata": {},
   "outputs": [],
   "source": [
    "visa_df['case_status'].map(d)"
   ]
  },
  {
   "cell_type": "code",
   "execution_count": null,
   "id": "93281e73",
   "metadata": {},
   "outputs": [],
   "source": [
    "visa_df['has_job_experiance']"
   ]
  },
  {
   "cell_type": "code",
   "execution_count": null,
   "id": "d144ab04",
   "metadata": {},
   "outputs": [],
   "source": [
    "cols=visa_df.select_dtypes(include='object').columns\n",
    "for i in cols:\n",
    "label=len(visa_df[i].unique())\n",
    "values=[i for i in range(len(labels))]\n",
    "d=dict(zip(labels,values))\n",
    "visa_df[i]=visa_df[i].map(d)\n",
    "visa_df"
   ]
  },
  {
   "cell_type": "markdown",
   "id": "9d02c444",
   "metadata": {},
   "source": [
    "**Label encoder**\n",
    "\n",
    "- Label encoder is a package under **sickit learn**\n",
    "\n",
    "- Sickit-learn is heart of Machine learning\n",
    "\n",
    "- In side sickit-learn we have a method called **preprocessing**\n",
    "\n",
    "- Under preprocessing we have **LabelEncoder**\n",
    "\n",
    "- sickit-learn we will write as **sklearn**\n",
    "\n",
    "- any sklearn package we have 1 step\n",
    "\n",
    "   - step-1: Read the package\n",
    "   \n",
    "   - step-2: save the package\n",
    "   \n",
    "   - step-3: Apply the fit transform"
   ]
  },
  {
   "cell_type": "code",
   "execution_count": null,
   "id": "18c04c4f",
   "metadata": {},
   "outputs": [],
   "source": [
    "visa_df=pd.read_csv"
   ]
  },
  {
   "cell_type": "code",
   "execution_count": null,
   "id": "26164029",
   "metadata": {},
   "outputs": [],
   "source": [
    "# step-1: Read the package\n",
    "from sklearn.pipelinereprocessing import LabelEncoder\n",
    "# step-2: save the package\n",
    "le=LabelEncoder()\n",
    "# step-3: apply the fit transform\n",
    "visa_df['case_status']=le.fit_transform(visa_df['case_status'])"
   ]
  },
  {
   "cell_type": "code",
   "execution_count": null,
   "id": "24ab8a57",
   "metadata": {},
   "outputs": [],
   "source": [
    "visa_df"
   ]
  },
  {
   "cell_type": "code",
   "execution_count": null,
   "id": "9aa79519",
   "metadata": {},
   "outputs": [],
   "source": [
    "visa_df=pd.read_csv\n",
    "cols=visa_df.select_dtypes(include='object').columns"
   ]
  },
  {
   "cell_type": "code",
   "execution_count": null,
   "id": "bf61b196",
   "metadata": {},
   "outputs": [],
   "source": [
    "visa_df['case_status']=le.inverse_transform(visa_df['case_status'])\n",
    "print(visa_df['case_status'].values)\n",
    "print(le.inverse_transform(visa_df['case_status']))"
   ]
  },
  {
   "cell_type": "markdown",
   "id": "91c6fdfd",
   "metadata": {},
   "source": [
    "**LableEncoder will use most of the time**"
   ]
  },
  {
   "cell_type": "markdown",
   "id": "460bc9de",
   "metadata": {},
   "source": [
    "**np.where**\n",
    "\n",
    "- np.where applicable only for binary\n",
    "\n",
    "- np.where will take 3 arguments\n",
    "\n",
    "    - condition\n",
    "    \n",
    "    - True value\n",
    "    \n",
    "    - False value"
   ]
  },
  {
   "cell_type": "markdown",
   "id": "7b3608ed",
   "metadata": {},
   "source": [
    "$senario$\n",
    "\n",
    "- For example case status value equal to Certified replace with zero\n",
    "\n",
    "- Other wise replace with 1"
   ]
  },
  {
   "cell_type": "code",
   "execution_count": null,
   "id": "0ea37de4",
   "metadata": {},
   "outputs": [],
   "source": [
    "visa_df=pd.read_csv\n",
    "con=visa_df['case_status']=='certified'\n",
    "visa_df['case_status']=np.where(con,0,1)\n",
    "visa_df"
   ]
  }
 ],
 "metadata": {
  "kernelspec": {
   "display_name": "Python 3 (ipykernel)",
   "language": "python",
   "name": "python3"
  },
  "language_info": {
   "codemirror_mode": {
    "name": "ipython",
    "version": 3
   },
   "file_extension": ".py",
   "mimetype": "text/x-python",
   "name": "python",
   "nbconvert_exporter": "python",
   "pygments_lexer": "ipython3",
   "version": "3.11.5"
  }
 },
 "nbformat": 4,
 "nbformat_minor": 5
}
